{
 "cells": [
  {
   "cell_type": "markdown",
   "metadata": {},
   "source": [
    "# Deep Learning in Virtual Screening: Recent Applications and Developments\n",
    "## Review\n",
    "\n",
    "### Figure generation\n",
    "#### Ligand encoding\n",
    "This notebook serves to generate the ligand encoding figure for the review.\n",
    "\n",
    "Example drug:\n",
    "- Fasudil: c1cc2cnccc2c(c1)S(=O)(=O)N3CCCNCC3, C1CNCCN(C1)S(=O)(=O)C2=CC=CC3=C2C=CN=C3\n",
    "\n",
    "Taken from https://www.icoa.fr/pkidb/."
   ]
  },
  {
   "cell_type": "code",
   "execution_count": 1,
   "metadata": {},
   "outputs": [],
   "source": [
    "import numpy as np\n",
    "import matplotlib.pyplot as plt\n",
    "from matplotlib import colors\n",
    "\n",
    "import rdkit\n",
    "from rdkit import Chem\n",
    "from rdkit.Chem import Draw, AllChem"
   ]
  },
  {
   "cell_type": "markdown",
   "metadata": {},
   "source": [
    "### Canonical SMILES\n",
    "We first need the canonical version of the SMILES."
   ]
  },
  {
   "cell_type": "code",
   "execution_count": 2,
   "metadata": {},
   "outputs": [],
   "source": [
    "def to_canonical(smiles):\n",
    "    \"\"\"\n",
    "    Returns the canonical SMILES.\n",
    "\n",
    "    Parameters\n",
    "    ----------\n",
    "    smiles : str\n",
    "        The string encoding of a molecule.\n",
    "\n",
    "    Returns\n",
    "    -------\n",
    "    str\n",
    "        The canonical version of the SMILES.\n",
    "    \"\"\"\n",
    "    molecule = Chem.MolFromSmiles(smiles)\n",
    "    return Chem.MolToSmiles(molecule, canonical=True)"
   ]
  },
  {
   "cell_type": "code",
   "execution_count": 3,
   "metadata": {},
   "outputs": [],
   "source": [
    "smiles = \"c1cc2cnccc2c(c1)S(=O)(=O)N3CCCNCC3\""
   ]
  },
  {
   "cell_type": "code",
   "execution_count": 4,
   "metadata": {},
   "outputs": [],
   "source": [
    "canonical_smiles = to_canonical(smiles)"
   ]
  },
  {
   "cell_type": "code",
   "execution_count": 5,
   "metadata": {},
   "outputs": [
    {
     "name": "stdout",
     "output_type": "stream",
     "text": [
      "Initial smiles: \t\t c1cc2cnccc2c(c1)S(=O)(=O)N3CCCNCC3\n",
      "Canonical smiles: \t\t O=S(=O)(c1cccc2cnccc12)N1CCCNCC1\n",
      "Length of canonical smiles: \t 32\n"
     ]
    }
   ],
   "source": [
    "print(\"Initial smiles: \\t\\t\", smiles)\n",
    "print(\"Canonical smiles: \\t\\t\", canonical_smiles)\n",
    "print(\"Length of canonical smiles: \\t\", len(canonical_smiles))"
   ]
  },
  {
   "cell_type": "markdown",
   "metadata": {},
   "source": [
    "### Molecular graph\n",
    "Obtain the molecular graph in RDKit."
   ]
  },
  {
   "cell_type": "code",
   "execution_count": 6,
   "metadata": {},
   "outputs": [
    {
     "data": {
      "image/png": "[encoded data removed]",
      "text/plain": [
       "<rdkit.Chem.rdchem.Mol at 0x7fd3f0562760>"
      ]
     },
     "execution_count": 6,
     "metadata": {},
     "output_type": "execute_result"
    }
   ],
   "source": [
    "molecule = Chem.MolFromSmiles(canonical_smiles)\n",
    "molecule"
   ]
  },
  {
   "cell_type": "code",
   "execution_count": 7,
   "metadata": {},
   "outputs": [],
   "source": [
    "img = Draw.MolToImage(molecule)\n",
    "img.save(\"figure_outputs/fasudil.png\")"
   ]
  },
  {
   "cell_type": "markdown",
   "metadata": {},
   "source": [
    "### Fingerprint\n",
    "Convert to Morgan fingerprint and draw the vector."
   ]
  },
  {
   "cell_type": "code",
   "execution_count": 8,
   "metadata": {},
   "outputs": [],
   "source": [
    "def smiles_to_morganfp(smiles, radius=5, length=50):\n",
    "    \"\"\"\n",
    "    Returns Morgan fingerprint.\n",
    "\n",
    "    Parameters\n",
    "    ----------\n",
    "    smiles : str\n",
    "        The string encoding of a molecule.\n",
    "    radius: int\n",
    "        The radius to consider for the fingerprint.\n",
    "    length : int\n",
    "        The length of the bit vector.\n",
    "\n",
    "    Returns\n",
    "    -------\n",
    "    np.array\n",
    "        The Morgan fingerprint of length `length`.\n",
    "\n",
    "    \"\"\"\n",
    "    molecule = Chem.MolFromSmiles(smiles)\n",
    "    return np.array(AllChem.GetMorganFingerprintAsBitVect(molecule,\n",
    "                                                          radius, length))"
   ]
  },
  {
   "cell_type": "code",
   "execution_count": 9,
   "metadata": {},
   "outputs": [
    {
     "name": "stdout",
     "output_type": "stream",
     "text": [
      "[1 0 1 0 0 0 0 1 1 0 1 0 1 0 0 1 0 1 0 1 1 1 1 1 1 0 1 1 1 1 1 1 1 1 1 0 1\n",
      " 0 1 1 1 1 1 1 1 1 1 1 1 1]\n"
     ]
    }
   ],
   "source": [
    "morgan_fp = smiles_to_morganfp(canonical_smiles)\n",
    "print(morgan_fp)"
   ]
  },
  {
   "cell_type": "code",
   "execution_count": 10,
   "metadata": {},
   "outputs": [
    {
     "data": {
      "image/png": "[encoded data removed]",
      "text/plain": [
       "<Figure size 432x288 with 1 Axes>"
      ]
     },
     "metadata": {},
     "output_type": "display_data"
    }
   ],
   "source": [
    "f, ax = plt.subplots()\n",
    "ax.imshow(np.reshape(morgan_fp, (1, 50)),\n",
    "          cmap=colors.ListedColormap([(1, 1, 1), \"black\"]))\n",
    "ax.set_xticks([])\n",
    "ax.set_yticks([])\n",
    "plt.tight_layout()\n",
    "plt.show()\n",
    "f.savefig(\"figure_outputs/morgan_fp.png\",\n",
    "          dpi=900, facecolor=\"w\", edgecolor=\"b\",\n",
    "          orientation=\"portrait\", format=None,\n",
    "          transparent=True, bbox_inches=None, pad_inches=0)"
   ]
  },
  {
   "cell_type": "markdown",
   "metadata": {},
   "source": [
    "#### Substructures\n",
    "Draw an atom environment of the Morgan fingerprint."
   ]
  },
  {
   "cell_type": "code",
   "execution_count": 11,
   "metadata": {},
   "outputs": [],
   "source": [
    "bi = {}\n",
    "morgan_fp = AllChem.GetMorganFingerprintAsBitVect(molecule,\n",
    "                                                  radius=5, bitInfo=bi)"
   ]
  },
  {
   "cell_type": "code",
   "execution_count": 12,
   "metadata": {},
   "outputs": [
    {
     "data": {
      "image/png": "[encoded data removed]",
      "text/plain": [
       "<PIL.PngImagePlugin.PngImageFile image mode=RGB size=150x150 at 0x7FD3F06ABE80>"
      ]
     },
     "execution_count": 12,
     "metadata": {},
     "output_type": "execute_result"
    }
   ],
   "source": [
    "Draw.DrawMorganBit(molecule, 366, bi)"
   ]
  },
  {
   "cell_type": "code",
   "execution_count": 13,
   "metadata": {},
   "outputs": [],
   "source": [
    "img = Draw.DrawMorganBit(molecule, 366, bi)\n",
    "img.save(\"figure_outputs/atom_environment.png\")"
   ]
  },
  {
   "cell_type": "markdown",
   "metadata": {},
   "source": [
    "### Graph\n",
    "\n",
    "Obtain the graph encoding: the adjacency matrix and the feature matrix."
   ]
  },
  {
   "cell_type": "markdown",
   "metadata": {},
   "source": [
    "#### Adjacency matrix"
   ]
  },
  {
   "cell_type": "code",
   "execution_count": 14,
   "metadata": {},
   "outputs": [],
   "source": [
    "adjacency_matrix = Chem.rdmolops.GetAdjacencyMatrix(molecule)"
   ]
  },
  {
   "cell_type": "code",
   "execution_count": 15,
   "metadata": {},
   "outputs": [
    {
     "data": {
      "image/png": "[encoded data removed]",
      "text/plain": [
       "<Figure size 432x288 with 1 Axes>"
      ]
     },
     "metadata": {},
     "output_type": "display_data"
    }
   ],
   "source": [
    "f, ax = plt.subplots()\n",
    "ax.imshow(adjacency_matrix, cmap=colors.ListedColormap([(1, 1, 1), \"black\"]))\n",
    "ax.set_xticks([])\n",
    "ax.set_yticks([])\n",
    "ax.patch.set_edgecolor(\"black\")\n",
    "ax.patch.set_linewidth(\"1\")\n",
    "plt.show()\n",
    "f.savefig(\"figure_outputs/adjacency_matrix.png\")"
   ]
  },
  {
   "cell_type": "markdown",
   "metadata": {},
   "source": [
    "#### Feature matrix\n",
    "We choose three atom features:\n",
    "- the atomic number,\n",
    "- the degree,\n",
    "- and aromaticity."
   ]
  },
  {
   "cell_type": "code",
   "execution_count": 16,
   "metadata": {},
   "outputs": [
    {
     "name": "stdout",
     "output_type": "stream",
     "text": [
      "Feature matrix of shape (20, 3) \n",
      " [[ 8.  1.  0.]\n",
      " [16.  4.  0.]\n",
      " [ 8.  1.  0.]\n",
      " [ 6.  3.  1.]\n",
      " [ 6.  2.  1.]\n",
      " [ 6.  2.  1.]\n",
      " [ 6.  2.  1.]\n",
      " [ 6.  3.  1.]\n",
      " [ 6.  2.  1.]\n",
      " [ 7.  2.  1.]\n",
      " [ 6.  2.  1.]\n",
      " [ 6.  2.  1.]\n",
      " [ 6.  3.  1.]\n",
      " [ 7.  3.  0.]\n",
      " [ 6.  2.  0.]\n",
      " [ 6.  2.  0.]\n",
      " [ 6.  2.  0.]\n",
      " [ 7.  2.  0.]\n",
      " [ 6.  2.  0.]\n",
      " [ 6.  2.  0.]]\n"
     ]
    }
   ],
   "source": [
    "nb_features = 3\n",
    "feature_matrix = np.zeros((molecule.GetNumAtoms(), nb_features))\n",
    "\n",
    "for i, atom in enumerate(molecule.GetAtoms()):\n",
    "    feature_matrix[i, :] = [atom.GetAtomicNum(), atom.GetDegree(),\n",
    "                            atom.GetIsAromatic()]\n",
    "\n",
    "print(f\"Feature matrix of shape {feature_matrix.shape} \\n {feature_matrix}\")"
   ]
  },
  {
   "cell_type": "code",
   "execution_count": 17,
   "metadata": {},
   "outputs": [
    {
     "data": {
      "image/png": "[encoded data removed]",
      "text/plain": [
       "<Figure size 432x288 with 1 Axes>"
      ]
     },
     "metadata": {
      "needs_background": "light"
     },
     "output_type": "display_data"
    }
   ],
   "source": [
    "f = plt.figure()\n",
    "plt.imshow(feature_matrix)\n",
    "plt.axis(\"off\")\n",
    "plt.show()\n",
    "f.savefig(\"figure_outputs/feature_matrix.png\")"
   ]
  },
  {
   "cell_type": "markdown",
   "metadata": {},
   "source": [
    "### Label & one-hot encoding of SMILES"
   ]
  },
  {
   "cell_type": "code",
   "execution_count": 18,
   "metadata": {},
   "outputs": [],
   "source": [
    "def get_unique_elements_as_dict(list_):\n",
    "    \"\"\"\n",
    "    Given a list, obtain dictonary with unique elements as keys\n",
    "    and integer as values.\n",
    "\n",
    "    Parameters\n",
    "    ----------\n",
    "    list_: list\n",
    "        Any python list.\n",
    "\n",
    "    Returns\n",
    "    -------\n",
    "    dict\n",
    "        Dictonary with unique elements as keys.\n",
    "    \"\"\"\n",
    "    all_elements = \"\".join(list_)\n",
    "    unique_elements = sorted(list(set(all_elements)))\n",
    "    return {unique_elem: i for i, unique_elem in enumerate(unique_elements)}"
   ]
  },
  {
   "cell_type": "code",
   "execution_count": 19,
   "metadata": {},
   "outputs": [
    {
     "name": "stdout",
     "output_type": "stream",
     "text": [
      "Dictionary of characters: \t {'(': 0, ')': 1, '1': 2, '2': 3, '=': 4, 'C': 5, 'N': 6, 'O': 7, 'S': 8, 'c': 9, 'n': 10}\n",
      "Length of dictionary: \t\t 11\n"
     ]
    }
   ],
   "source": [
    "DICTIONARY = get_unique_elements_as_dict(canonical_smiles)\n",
    "print(\"Dictionary of characters: \\t\", DICTIONARY)\n",
    "print(\"Length of dictionary: \\t\\t\", len(DICTIONARY))"
   ]
  },
  {
   "cell_type": "code",
   "execution_count": 20,
   "metadata": {},
   "outputs": [],
   "source": [
    "def label_encode(sequence, dictionary):\n",
    "    \"\"\"\n",
    "    Creates the label encoding of a sequence given a dictionary.\n",
    "\n",
    "    Parameters\n",
    "    ----------\n",
    "    sequence : str\n",
    "        A sequence of strings, here SMILES.\n",
    "    dictionary : dict\n",
    "        The dictionary with the associated characters.\n",
    "\n",
    "    Returns\n",
    "    -------\n",
    "    np.array\n",
    "        The integer vector corresponding to label encoding.\n",
    "    \"\"\"\n",
    "    label_vector = np.zeros(len(sequence), dtype=int)\n",
    "    for i, char in enumerate(sequence):\n",
    "        for j, elem in enumerate(dictionary):\n",
    "            if char == elem:\n",
    "                label_vector[i] = j\n",
    "    return label_vector"
   ]
  },
  {
   "cell_type": "code",
   "execution_count": 21,
   "metadata": {},
   "outputs": [
    {
     "name": "stdout",
     "output_type": "stream",
     "text": [
      "SMILES label encoding: \t [ 7  4  8  0  4  7  1  0  9  2  9  9  9  9  3  9 10  9  9  9  2  3  1  6\n",
      "  2  5  5  5  6  5  5  2]\n",
      "Length of vector: \t  32\n"
     ]
    }
   ],
   "source": [
    "smiles_label = label_encode(canonical_smiles, DICTIONARY)\n",
    "print(\"SMILES label encoding: \\t\", smiles_label)\n",
    "print(\"Length of vector: \\t \", len(smiles_label))"
   ]
  },
  {
   "cell_type": "code",
   "execution_count": 22,
   "metadata": {},
   "outputs": [
    {
     "data": {
      "image/png": "[encoded data removed]",
      "text/plain": [
       "<Figure size 432x288 with 1 Axes>"
      ]
     },
     "metadata": {},
     "output_type": "display_data"
    }
   ],
   "source": [
    "f, ax = plt.subplots()\n",
    "ax.imshow(np.reshape(smiles_label, (1, len(smiles_label))))\n",
    "ax.set_xticks([])\n",
    "ax.set_yticks([])\n",
    "f.savefig(\"figure_outputs/smiles_label.png\",\n",
    "          dpi=900, facecolor=\"w\", edgecolor=\"w\",\n",
    "          orientation=\"portrait\", format=None,\n",
    "          transparent=True, bbox_inches=None, pad_inches=0)"
   ]
  },
  {
   "cell_type": "code",
   "execution_count": 23,
   "metadata": {},
   "outputs": [],
   "source": [
    "def one_hot_encode(sequence, dictionary):\n",
    "    \"\"\"\n",
    "    Creates the one-hot encoding of a sequence given a dictionary.\n",
    "\n",
    "    Parameters\n",
    "    ----------\n",
    "    sequence : str\n",
    "        A sequence of strings, here SMILES.\n",
    "    dictionary : dict\n",
    "        The dictionary with the associated characters.\n",
    "\n",
    "    Returns\n",
    "    -------\n",
    "    np.array\n",
    "        The binary matrix corresponding to one-hot encoding.\n",
    "    \"\"\"\n",
    "    one_hot_matrix = np.zeros((len(dictionary), len(sequence)))\n",
    "    for i, character in enumerate(sequence):\n",
    "        one_hot_matrix[dictionary[character], i] = 1\n",
    "    return one_hot_matrix"
   ]
  },
  {
   "cell_type": "code",
   "execution_count": 24,
   "metadata": {},
   "outputs": [
    {
     "name": "stdout",
     "output_type": "stream",
     "text": [
      "Shape of one-hot matrix:  (11, 32)\n"
     ]
    }
   ],
   "source": [
    "smiles_one_hot = one_hot_encode(canonical_smiles, DICTIONARY)\n",
    "print(\"Shape of one-hot matrix: \", smiles_one_hot.shape)"
   ]
  },
  {
   "cell_type": "code",
   "execution_count": 25,
   "metadata": {},
   "outputs": [
    {
     "data": {
      "image/png": "[encoded data removed]",
      "text/plain": [
       "<Figure size 432x288 with 1 Axes>"
      ]
     },
     "metadata": {},
     "output_type": "display_data"
    }
   ],
   "source": [
    "f, ax = plt.subplots()\n",
    "ax.imshow(smiles_one_hot, cmap=colors.ListedColormap([(1, 1, 1), \"black\"]))\n",
    "ax.set_xticks([])\n",
    "ax.set_yticks([])\n",
    "ax.patch.set_edgecolor(\"black\")\n",
    "ax.patch.set_linewidth(\"1\")\n",
    "plt.show()\n",
    "f.savefig(\"figure_outputs/smiles_onehot.png\",\n",
    "          dpi=300, facecolor=\"w\", edgecolor=\"w\",\n",
    "          orientation=\"portrait\",\n",
    "          transparent=True, bbox_inches=None, pad_inches=0)"
   ]
  }
 ],
 "metadata": {
  "kernelspec": {
   "display_name": "Python 3",
   "language": "python",
   "name": "python3"
  },
  "language_info": {
   "codemirror_mode": {
    "name": "ipython",
    "version": 3
   },
   "file_extension": ".py",
   "mimetype": "text/x-python",
   "name": "python",
   "nbconvert_exporter": "python",
   "pygments_lexer": "ipython3",
   "version": "3.8.8"
  }
 },
 "nbformat": 4,
 "nbformat_minor": 4
}
